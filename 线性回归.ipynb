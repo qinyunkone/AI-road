{
  "nbformat": 4,
  "nbformat_minor": 0,
  "metadata": {
    "kernelspec": {
      "display_name": "Python 3",
      "language": "python",
      "name": "python3"
    },
    "language_info": {
      "codemirror_mode": {
        "name": "ipython",
        "version": 3
      },
      "file_extension": ".py",
      "mimetype": "text/x-python",
      "name": "python",
      "nbconvert_exporter": "python",
      "pygments_lexer": "ipython3",
      "version": "3.7.4"
    },
    "colab": {
      "provenance": []
    }
  },
  "cells": [
    {
      "cell_type": "markdown",
      "metadata": {
        "id": "mvMknznM_is-"
      },
      "source": [
        "# 线性回归"
      ]
    },
    {
      "cell_type": "markdown",
      "metadata": {
        "id": "9BRhj0RkmC2N"
      },
      "source": [
        "## what"
      ]
    },
    {
      "cell_type": "markdown",
      "metadata": {
        "id": "1wcKG3-xl8f7"
      },
      "source": [
        "思想：用一条直线拟合样本点，让观测值与拟合值间的残差平方和最小。\n",
        "\n",
        "模型：$h(x) = X\\theta$\n",
        "\n",
        "参数：$\\theta = (\\theta_0,...,\\theta_n)^{T}$\n",
        "\n",
        "目标函数：$J(\\theta) = \\frac{1}{2m}\\sum^{m}_{i=1}(y^{(i)}-h(x^{(i)}))^2 = \\frac{1}{2m}(y-X\\theta)^{T}(y-X\\theta)$\n",
        "\n",
        "梯度：$\\bigtriangledown J(\\theta)=\\frac{1}{m}X^T(h(x)-y)$\n",
        "\n",
        "最优参数：$\\hat{\\theta}=(X^TX)^{-1}X^Ty$\n",
        "\n",
        "优点：\n",
        "1. 可解释性强。系数代表特征对目标变量的影响程度。\n",
        "2. 简单高效。建模速度快，不需要很复杂的计算，在数据量大的情况下依然运行速度很快。\n",
        "\n",
        "缺点：\n",
        "1. 不能很好地拟合非线性数据。所以需要先判断变量之间是否是线性关系。\n",
        "2. 对多重共线性敏感。当自变量之间存在相互关联时，也就是多重共线性时，系数可能存在很大的偏差，对模型精度影响很大。\n",
        "3. 对异常值敏感。"
      ]
    },
    {
      "cell_type": "markdown",
      "source": [
        "### 1.最小二乘法(代数视角)\n",
        "一种思路是，对于样本，有观测值$y_i$和拟合值$\\hat{y_i}$，两者的差就是残差$e_i$。我们让总残差最小，比如使均方误差(MSE)最小，这就是最小二乘法的主要思想。\n",
        "\n",
        "**小样本OLS基本假定**\n",
        "1. 线性假设：自变量对因变量的边际效应均为常数，即自变量对因变量的影响是线性的。\n",
        "2. 不存在多重共线性：自变量之间是线性无关的，即$X$列满秩，则$X^{T}X$为正定矩阵。\n",
        "3. 严格外生性：$E(\\epsilon | X) = E(\\epsilon_i | x_1, ..., x_n) = 0$，即扰动项与所有自变量均不相关。\n",
        "4. 球形扰动项：扰动项满足‘同方差’、‘无自相关’等性质。\n",
        "$var(\\epsilon | X) = E(\\epsilon ^{'}\\epsilon | X) = \\sigma ^2I = \\left\\{ \\begin{matrix} \\sigma^2 & \\cdots & 0\\ \\\\ \\vdots  & \\ddots & \\vdots \\\\ 0 & \\cdots & \\sigma^2 \\end{matrix} \\right\\}$\n",
        "\n",
        "**大样本OLS的基本假定**\n",
        "1. 线性假定（不变）\n",
        "2. 无多重共线性（不变）\n",
        "3. 同期外生性：不再要求扰动项对所有自变量正交，只是要求扰动项对同期的自变量正交。\n",
        "4. 渐近独立的平稳过程：保证样本均值是总体均值的一致估计。\n",
        "\n",
        "**公式推导**\n",
        "\n",
        "$J(\\theta) = \\frac{1}{2m}(y-X\\theta)^{T}(y-X\\theta)\\\\\n",
        "= \\frac{1}{2m}(y^{T}y - y^{T}X\\theta - \\theta^{T}X^{T}y + \\theta^{T}X^{T}X\\theta)$\n",
        "\n",
        "$\\frac{\\partial J(\\theta)}{\\partial \\theta} = \\frac{\\partial (\\frac{1}{2m}(y^{T}y - y^{T}X\\theta - \\theta^{T}X^{T}y + \\theta^{T}X^{T}X\\theta)}{\\partial \\theta}\\\\\n",
        "= \\frac{1}{2m}(-X^{T}y - X^{T}y  + X^{T}X\\theta + X^{T}X\\theta)\\\\\n",
        "= \\frac{1}{m}(X^{T}X\\theta - X^{T}y)\\\\\n",
        "= \\frac{1}{m}X^{T}(X\\theta - y)$\n",
        "\n",
        "令$\\frac{\\partial J(\\theta)}{\\partial \\theta}=0$， 则$\\hat{\\theta}=(X^{T}X)^{-1}X^{T}y$\n",
        "\n",
        "[矩阵的迹求导](https://blog.csdn.net/a766543984/article/details/89387639)"
      ],
      "metadata": {
        "id": "GAKHS5ErTICc"
      }
    },
    {
      "cell_type": "markdown",
      "source": [
        "### 2.梯度下降法\n",
        "梯度下降法是一种基于搜索的最优化方法，作用是最小化一个损失函数(最大化效用函数用梯度上升法)。\n",
        "\n",
        "我们首先来明晰两个概念（方向导数和梯度）\n",
        "\n",
        "方向导数：函数$z=f(x,y)$在点$(x_0,y_0)$沿方向$\\vec{l}=(v_1, v_2)$的方向导数\n",
        "\n",
        "$\\frac{\\partial f}{\\partial l}=\\lim_{\\rho \\rightarrow 0^+}\\frac{f(x_0+\\rho v_1, y_0+\\rho v_2)-f(x_0,y_0)}{\\rho}$\n",
        "\n",
        "$\\frac{\\partial f}{\\partial l}$是函数$z$对点$(x_0,y_0)$沿方向$\\vec{l}$对$\\rho$的变化率，也是曲面$z$在点$(x_0,y_0)$沿方向$\\vec{l}$的倾斜程度。\n",
        "\n",
        "梯度：向量$(\\frac{\\partial f}{\\partial x}, \\frac{\\partial f}{\\partial y})$是使$f(x,y)$在一点增加最快的方向，称向量$(\\frac{\\partial f}{\\partial x}, \\frac{\\partial f}{\\partial y})$为可微函数$z=f(x,y)$在点$(x,y)$处的梯度向量，简称梯度。\n",
        "\n",
        "记作：\n",
        "$grad f=(\\frac{\\partial f}{\\partial x}, \\frac{\\partial f}{\\partial y})=\\frac{\\partial f}{\\partial x}i+\\frac{\\partial f}{\\partial y}j=\\bigtriangledown f$\n",
        "\n",
        "梯度$grad f$是一个向量，是可微函数$z=f(x,y)$在点$(x,y)$处取得最大方向导数的方向(即函数增加最快的方向)。\n",
        "\n",
        "**原理**\n",
        "\n",
        "对于损失函数$J(\\theta) = \\frac{1}{2m}\\sum^{m}_{i=1}(y^{(i)}-X^{(i)}\\theta)^2=\\frac{1}{2m}\\sum^{m}_{i=1}(y^{(i)}-\\sum^{n}_{j=0}\\theta_jx^{(i)}_j)^2$，\n",
        "\n",
        "梯度$\\bigtriangledown J(\\theta)=(\\frac{\\partial J}{\\partial \\theta_0},...,\\frac{\\partial J}{\\partial \\theta_n})^{T}=-\\frac{1}{m}(...,\\sum^{m}_{i=1}(y^{(i)}-X^{(i)}\\theta)x^{(i)}_j,...)^{T}, j\\in{(0,n)}$\n",
        "\n",
        "用矩阵形式表示\n",
        "\n",
        "$\\bigtriangledown J(\\theta)=\\frac{1}{m}X^{T}(X\\theta - Y)$\n",
        "\n",
        "梯度的方向就是损失函数$J$上升最快的方向，要使$J$最小，则$\\theta := \\theta - \\eta \\bigtriangledown J$，其中$\\eta$是步长，也称学习率。即$\\theta$沿损失函数$J$下降最快的方向移动$\\eta \\bigtriangledown J$，直至梯度为0。"
      ],
      "metadata": {
        "id": "fFeBTD5pTQhr"
      }
    },
    {
      "cell_type": "markdown",
      "source": [
        "### 3.最大似然法(概率视角)\n",
        "最大似然估计的思想，在于已知模型，最有可能产生观测的样本的参数是多少。\n",
        "\n",
        "$y = X\\theta + \\epsilon$，假定$var(\\epsilon | X) = \\sigma ^2I$，则$y|X \\sim N(X\\theta, \\sigma^2I)$\n",
        "\n",
        "$f(y^{(i)}|X^{(i)})=\\frac{1}{\\sqrt{2\\pi} \\sigma}\\exp\\{-\\frac{(y^{(i)}-X^{(i)'}\\theta)^2}{2\\sigma^2}\\}$\n",
        "\n",
        "**效用函数：**\n",
        "\n",
        "$L(\\theta)=\\prod^{m}_{i=1}f(y^{(i)}|X^{(i)})=(2\\pi \\sigma^2)^{-\\frac{m}{2}}\\exp\\{-\\frac{(y-X\\theta)^{'}(y-X\\theta)}{2\\sigma^2}\\}$\n",
        "\n",
        "$\\ln{L(\\theta}）=-\\frac{m}{2}\\ln{2\\pi \\sigma^2}-\\frac{(y-X\\theta)^{'}(y-X\\theta)}{2\\sigma^2}$\n",
        "\n",
        "对$\\theta$求导\n",
        "\n",
        "$\\frac{\\partial \\ln{L(\\theta}）}{\\partial \\theta}=-\\frac{1}{2\\sigma^2}\\frac{\\partial tr((y-X\\theta)^{'}(y-X\\theta))}{\\partial \\theta}=0$\n",
        "\n",
        "则$\\hat{\\theta}=(X^{'}X)^{-1}X^{'}y$"
      ],
      "metadata": {
        "id": "SEFeNMWtTTyE"
      }
    },
    {
      "cell_type": "markdown",
      "source": [
        "### 4.从几何视角看线性回归\n",
        "对于$X$构成的n维特征空间(每个特征向量构成一个轴)，向量$y$在空间上的投影为$X\\theta$，要使残差$y-X\\theta$最小，则$y-X\\theta$与超平面$X$正交。\n",
        "\n",
        "即$X^{'}(y-X\\theta)=0(两个向量垂直，即a^{'}b=0)$\n",
        "\n",
        "得$\\hat{\\theta}=(X^{'}X)^{-1}X^{'}y$"
      ],
      "metadata": {
        "id": "ljlg5trZTWIs"
      }
    },
    {
      "cell_type": "markdown",
      "metadata": {
        "id": "Ygqk8K7smF20"
      },
      "source": [
        "## how"
      ]
    },
    {
      "cell_type": "code",
      "metadata": {
        "id": "95rqRiRE_itG"
      },
      "source": [
        "import pandas as pd\n",
        "import numpy as np\n",
        "\n",
        "import matplotlib.pyplot as plt\n",
        "%matplotlib inline\n",
        "\n",
        "from sklearn.linear_model import LinearRegression\n",
        "\n",
        "from sklearn.preprocessing import StandardScaler\n",
        "from statsmodels.graphics.gofplots import qqplot\n",
        "from scipy.stats import kstest # 正态性检验\n",
        "\n",
        "import warnings\n",
        "warnings.filterwarnings('ignore')"
      ],
      "execution_count": 1,
      "outputs": []
    },
    {
      "cell_type": "markdown",
      "metadata": {
        "id": "8ZcELqTnmK6G"
      },
      "source": [
        "### 数据"
      ]
    },
    {
      "cell_type": "markdown",
      "source": [
        "#### 读取样本"
      ],
      "metadata": {
        "id": "5kupDni3JDxn"
      }
    },
    {
      "cell_type": "markdown",
      "source": [
        "**房价预测**\n",
        "\n",
        "[数据集说明](https://developers.google.com/machine-learning/crash-course/california-housing-data-description?hl=zh-cn)"
      ],
      "metadata": {
        "id": "EP7k5vzQ7cwO"
      }
    },
    {
      "cell_type": "code",
      "metadata": {
        "colab": {
          "base_uri": "https://localhost:8080/",
          "height": 206
        },
        "id": "GkDRmE51_itJ",
        "outputId": "d568c6a2-dc86-4252-993b-302dcd0365c0"
      },
      "source": [
        "train = pd.read_csv('california_housing_train.csv')\n",
        "test = pd.read_csv('california_housing_test.csv')\n",
        "train.head()"
      ],
      "execution_count": 2,
      "outputs": [
        {
          "output_type": "execute_result",
          "data": {
            "text/plain": [
              "   longitude  latitude  housing_median_age  total_rooms  total_bedrooms  \\\n",
              "0    -114.31     34.19                15.0       5612.0          1283.0   \n",
              "1    -114.47     34.40                19.0       7650.0          1901.0   \n",
              "2    -114.56     33.69                17.0        720.0           174.0   \n",
              "3    -114.57     33.64                14.0       1501.0           337.0   \n",
              "4    -114.57     33.57                20.0       1454.0           326.0   \n",
              "\n",
              "   population  households  median_income  median_house_value  \n",
              "0      1015.0       472.0         1.4936             66900.0  \n",
              "1      1129.0       463.0         1.8200             80100.0  \n",
              "2       333.0       117.0         1.6509             85700.0  \n",
              "3       515.0       226.0         3.1917             73400.0  \n",
              "4       624.0       262.0         1.9250             65500.0  "
            ],
            "text/html": [
              "\n",
              "  <div id=\"df-f5b36b9c-0e5c-40b9-8910-f57d30598504\">\n",
              "    <div class=\"colab-df-container\">\n",
              "      <div>\n",
              "<style scoped>\n",
              "    .dataframe tbody tr th:only-of-type {\n",
              "        vertical-align: middle;\n",
              "    }\n",
              "\n",
              "    .dataframe tbody tr th {\n",
              "        vertical-align: top;\n",
              "    }\n",
              "\n",
              "    .dataframe thead th {\n",
              "        text-align: right;\n",
              "    }\n",
              "</style>\n",
              "<table border=\"1\" class=\"dataframe\">\n",
              "  <thead>\n",
              "    <tr style=\"text-align: right;\">\n",
              "      <th></th>\n",
              "      <th>longitude</th>\n",
              "      <th>latitude</th>\n",
              "      <th>housing_median_age</th>\n",
              "      <th>total_rooms</th>\n",
              "      <th>total_bedrooms</th>\n",
              "      <th>population</th>\n",
              "      <th>households</th>\n",
              "      <th>median_income</th>\n",
              "      <th>median_house_value</th>\n",
              "    </tr>\n",
              "  </thead>\n",
              "  <tbody>\n",
              "    <tr>\n",
              "      <th>0</th>\n",
              "      <td>-114.31</td>\n",
              "      <td>34.19</td>\n",
              "      <td>15.0</td>\n",
              "      <td>5612.0</td>\n",
              "      <td>1283.0</td>\n",
              "      <td>1015.0</td>\n",
              "      <td>472.0</td>\n",
              "      <td>1.4936</td>\n",
              "      <td>66900.0</td>\n",
              "    </tr>\n",
              "    <tr>\n",
              "      <th>1</th>\n",
              "      <td>-114.47</td>\n",
              "      <td>34.40</td>\n",
              "      <td>19.0</td>\n",
              "      <td>7650.0</td>\n",
              "      <td>1901.0</td>\n",
              "      <td>1129.0</td>\n",
              "      <td>463.0</td>\n",
              "      <td>1.8200</td>\n",
              "      <td>80100.0</td>\n",
              "    </tr>\n",
              "    <tr>\n",
              "      <th>2</th>\n",
              "      <td>-114.56</td>\n",
              "      <td>33.69</td>\n",
              "      <td>17.0</td>\n",
              "      <td>720.0</td>\n",
              "      <td>174.0</td>\n",
              "      <td>333.0</td>\n",
              "      <td>117.0</td>\n",
              "      <td>1.6509</td>\n",
              "      <td>85700.0</td>\n",
              "    </tr>\n",
              "    <tr>\n",
              "      <th>3</th>\n",
              "      <td>-114.57</td>\n",
              "      <td>33.64</td>\n",
              "      <td>14.0</td>\n",
              "      <td>1501.0</td>\n",
              "      <td>337.0</td>\n",
              "      <td>515.0</td>\n",
              "      <td>226.0</td>\n",
              "      <td>3.1917</td>\n",
              "      <td>73400.0</td>\n",
              "    </tr>\n",
              "    <tr>\n",
              "      <th>4</th>\n",
              "      <td>-114.57</td>\n",
              "      <td>33.57</td>\n",
              "      <td>20.0</td>\n",
              "      <td>1454.0</td>\n",
              "      <td>326.0</td>\n",
              "      <td>624.0</td>\n",
              "      <td>262.0</td>\n",
              "      <td>1.9250</td>\n",
              "      <td>65500.0</td>\n",
              "    </tr>\n",
              "  </tbody>\n",
              "</table>\n",
              "</div>\n",
              "      <button class=\"colab-df-convert\" onclick=\"convertToInteractive('df-f5b36b9c-0e5c-40b9-8910-f57d30598504')\"\n",
              "              title=\"Convert this dataframe to an interactive table.\"\n",
              "              style=\"display:none;\">\n",
              "        \n",
              "  <svg xmlns=\"http://www.w3.org/2000/svg\" height=\"24px\"viewBox=\"0 0 24 24\"\n",
              "       width=\"24px\">\n",
              "    <path d=\"M0 0h24v24H0V0z\" fill=\"none\"/>\n",
              "    <path d=\"M18.56 5.44l.94 2.06.94-2.06 2.06-.94-2.06-.94-.94-2.06-.94 2.06-2.06.94zm-11 1L8.5 8.5l.94-2.06 2.06-.94-2.06-.94L8.5 2.5l-.94 2.06-2.06.94zm10 10l.94 2.06.94-2.06 2.06-.94-2.06-.94-.94-2.06-.94 2.06-2.06.94z\"/><path d=\"M17.41 7.96l-1.37-1.37c-.4-.4-.92-.59-1.43-.59-.52 0-1.04.2-1.43.59L10.3 9.45l-7.72 7.72c-.78.78-.78 2.05 0 2.83L4 21.41c.39.39.9.59 1.41.59.51 0 1.02-.2 1.41-.59l7.78-7.78 2.81-2.81c.8-.78.8-2.07 0-2.86zM5.41 20L4 18.59l7.72-7.72 1.47 1.35L5.41 20z\"/>\n",
              "  </svg>\n",
              "      </button>\n",
              "      \n",
              "  <style>\n",
              "    .colab-df-container {\n",
              "      display:flex;\n",
              "      flex-wrap:wrap;\n",
              "      gap: 12px;\n",
              "    }\n",
              "\n",
              "    .colab-df-convert {\n",
              "      background-color: #E8F0FE;\n",
              "      border: none;\n",
              "      border-radius: 50%;\n",
              "      cursor: pointer;\n",
              "      display: none;\n",
              "      fill: #1967D2;\n",
              "      height: 32px;\n",
              "      padding: 0 0 0 0;\n",
              "      width: 32px;\n",
              "    }\n",
              "\n",
              "    .colab-df-convert:hover {\n",
              "      background-color: #E2EBFA;\n",
              "      box-shadow: 0px 1px 2px rgba(60, 64, 67, 0.3), 0px 1px 3px 1px rgba(60, 64, 67, 0.15);\n",
              "      fill: #174EA6;\n",
              "    }\n",
              "\n",
              "    [theme=dark] .colab-df-convert {\n",
              "      background-color: #3B4455;\n",
              "      fill: #D2E3FC;\n",
              "    }\n",
              "\n",
              "    [theme=dark] .colab-df-convert:hover {\n",
              "      background-color: #434B5C;\n",
              "      box-shadow: 0px 1px 3px 1px rgba(0, 0, 0, 0.15);\n",
              "      filter: drop-shadow(0px 1px 2px rgba(0, 0, 0, 0.3));\n",
              "      fill: #FFFFFF;\n",
              "    }\n",
              "  </style>\n",
              "\n",
              "      <script>\n",
              "        const buttonEl =\n",
              "          document.querySelector('#df-f5b36b9c-0e5c-40b9-8910-f57d30598504 button.colab-df-convert');\n",
              "        buttonEl.style.display =\n",
              "          google.colab.kernel.accessAllowed ? 'block' : 'none';\n",
              "\n",
              "        async function convertToInteractive(key) {\n",
              "          const element = document.querySelector('#df-f5b36b9c-0e5c-40b9-8910-f57d30598504');\n",
              "          const dataTable =\n",
              "            await google.colab.kernel.invokeFunction('convertToInteractive',\n",
              "                                                     [key], {});\n",
              "          if (!dataTable) return;\n",
              "\n",
              "          const docLinkHtml = 'Like what you see? Visit the ' +\n",
              "            '<a target=\"_blank\" href=https://colab.research.google.com/notebooks/data_table.ipynb>data table notebook</a>'\n",
              "            + ' to learn more about interactive tables.';\n",
              "          element.innerHTML = '';\n",
              "          dataTable['output_type'] = 'display_data';\n",
              "          await google.colab.output.renderOutput(dataTable, element);\n",
              "          const docLink = document.createElement('div');\n",
              "          docLink.innerHTML = docLinkHtml;\n",
              "          element.appendChild(docLink);\n",
              "        }\n",
              "      </script>\n",
              "    </div>\n",
              "  </div>\n",
              "  "
            ]
          },
          "metadata": {},
          "execution_count": 2
        }
      ]
    },
    {
      "cell_type": "markdown",
      "source": [
        "#### 假设前提"
      ],
      "metadata": {
        "id": "5475TVhuJeqO"
      }
    },
    {
      "cell_type": "markdown",
      "source": [
        "##### 线性假设"
      ],
      "metadata": {
        "id": "Y2inCQWmJhu3"
      }
    },
    {
      "cell_type": "code",
      "metadata": {
        "colab": {
          "base_uri": "https://localhost:8080/"
        },
        "id": "Dg16Si1JTwkD",
        "outputId": "ea45e055-fe85-4998-d295-e48e39cb0cc4"
      },
      "source": [
        "# 计算自变量与因变量之间的相关系数\n",
        "train.corr()['median_house_value']"
      ],
      "execution_count": 3,
      "outputs": [
        {
          "output_type": "execute_result",
          "data": {
            "text/plain": [
              "longitude            -0.044982\n",
              "latitude             -0.144917\n",
              "housing_median_age    0.106758\n",
              "total_rooms           0.130991\n",
              "total_bedrooms        0.045783\n",
              "population           -0.027850\n",
              "households            0.061031\n",
              "median_income         0.691871\n",
              "median_house_value    1.000000\n",
              "Name: median_house_value, dtype: float64"
            ]
          },
          "metadata": {},
          "execution_count": 3
        }
      ]
    },
    {
      "cell_type": "code",
      "source": [
        "# 删除与因变量的相关系数在0.1以下的变量\n",
        "train.drop(columns=['longitude', 'total_bedrooms', 'population', 'households'], inplace=True)"
      ],
      "metadata": {
        "id": "vTSXwI_QLSnm"
      },
      "execution_count": 4,
      "outputs": []
    },
    {
      "cell_type": "markdown",
      "source": [
        "##### 无多重共线性假设"
      ],
      "metadata": {
        "id": "8U6TAYY3Jtg_"
      }
    },
    {
      "cell_type": "code",
      "metadata": {
        "colab": {
          "base_uri": "https://localhost:8080/",
          "height": 175
        },
        "id": "f1J6FPH9Wpx_",
        "outputId": "fbbcf56f-d95a-4b1f-f0b7-3367f57c7e99"
      },
      "source": [
        "# 计算自变量之间的相关系数\n",
        "train.drop(columns='median_house_value').corr()"
      ],
      "execution_count": 5,
      "outputs": [
        {
          "output_type": "execute_result",
          "data": {
            "text/plain": [
              "                    latitude  housing_median_age  total_rooms  median_income\n",
              "latitude            1.000000            0.016454    -0.038773      -0.080303\n",
              "housing_median_age  0.016454            1.000000    -0.360984      -0.115932\n",
              "total_rooms        -0.038773           -0.360984     1.000000       0.195383\n",
              "median_income      -0.080303           -0.115932     0.195383       1.000000"
            ],
            "text/html": [
              "\n",
              "  <div id=\"df-7b8f3534-1aaa-4770-8e80-2f895952e35f\">\n",
              "    <div class=\"colab-df-container\">\n",
              "      <div>\n",
              "<style scoped>\n",
              "    .dataframe tbody tr th:only-of-type {\n",
              "        vertical-align: middle;\n",
              "    }\n",
              "\n",
              "    .dataframe tbody tr th {\n",
              "        vertical-align: top;\n",
              "    }\n",
              "\n",
              "    .dataframe thead th {\n",
              "        text-align: right;\n",
              "    }\n",
              "</style>\n",
              "<table border=\"1\" class=\"dataframe\">\n",
              "  <thead>\n",
              "    <tr style=\"text-align: right;\">\n",
              "      <th></th>\n",
              "      <th>latitude</th>\n",
              "      <th>housing_median_age</th>\n",
              "      <th>total_rooms</th>\n",
              "      <th>median_income</th>\n",
              "    </tr>\n",
              "  </thead>\n",
              "  <tbody>\n",
              "    <tr>\n",
              "      <th>latitude</th>\n",
              "      <td>1.000000</td>\n",
              "      <td>0.016454</td>\n",
              "      <td>-0.038773</td>\n",
              "      <td>-0.080303</td>\n",
              "    </tr>\n",
              "    <tr>\n",
              "      <th>housing_median_age</th>\n",
              "      <td>0.016454</td>\n",
              "      <td>1.000000</td>\n",
              "      <td>-0.360984</td>\n",
              "      <td>-0.115932</td>\n",
              "    </tr>\n",
              "    <tr>\n",
              "      <th>total_rooms</th>\n",
              "      <td>-0.038773</td>\n",
              "      <td>-0.360984</td>\n",
              "      <td>1.000000</td>\n",
              "      <td>0.195383</td>\n",
              "    </tr>\n",
              "    <tr>\n",
              "      <th>median_income</th>\n",
              "      <td>-0.080303</td>\n",
              "      <td>-0.115932</td>\n",
              "      <td>0.195383</td>\n",
              "      <td>1.000000</td>\n",
              "    </tr>\n",
              "  </tbody>\n",
              "</table>\n",
              "</div>\n",
              "      <button class=\"colab-df-convert\" onclick=\"convertToInteractive('df-7b8f3534-1aaa-4770-8e80-2f895952e35f')\"\n",
              "              title=\"Convert this dataframe to an interactive table.\"\n",
              "              style=\"display:none;\">\n",
              "        \n",
              "  <svg xmlns=\"http://www.w3.org/2000/svg\" height=\"24px\"viewBox=\"0 0 24 24\"\n",
              "       width=\"24px\">\n",
              "    <path d=\"M0 0h24v24H0V0z\" fill=\"none\"/>\n",
              "    <path d=\"M18.56 5.44l.94 2.06.94-2.06 2.06-.94-2.06-.94-.94-2.06-.94 2.06-2.06.94zm-11 1L8.5 8.5l.94-2.06 2.06-.94-2.06-.94L8.5 2.5l-.94 2.06-2.06.94zm10 10l.94 2.06.94-2.06 2.06-.94-2.06-.94-.94-2.06-.94 2.06-2.06.94z\"/><path d=\"M17.41 7.96l-1.37-1.37c-.4-.4-.92-.59-1.43-.59-.52 0-1.04.2-1.43.59L10.3 9.45l-7.72 7.72c-.78.78-.78 2.05 0 2.83L4 21.41c.39.39.9.59 1.41.59.51 0 1.02-.2 1.41-.59l7.78-7.78 2.81-2.81c.8-.78.8-2.07 0-2.86zM5.41 20L4 18.59l7.72-7.72 1.47 1.35L5.41 20z\"/>\n",
              "  </svg>\n",
              "      </button>\n",
              "      \n",
              "  <style>\n",
              "    .colab-df-container {\n",
              "      display:flex;\n",
              "      flex-wrap:wrap;\n",
              "      gap: 12px;\n",
              "    }\n",
              "\n",
              "    .colab-df-convert {\n",
              "      background-color: #E8F0FE;\n",
              "      border: none;\n",
              "      border-radius: 50%;\n",
              "      cursor: pointer;\n",
              "      display: none;\n",
              "      fill: #1967D2;\n",
              "      height: 32px;\n",
              "      padding: 0 0 0 0;\n",
              "      width: 32px;\n",
              "    }\n",
              "\n",
              "    .colab-df-convert:hover {\n",
              "      background-color: #E2EBFA;\n",
              "      box-shadow: 0px 1px 2px rgba(60, 64, 67, 0.3), 0px 1px 3px 1px rgba(60, 64, 67, 0.15);\n",
              "      fill: #174EA6;\n",
              "    }\n",
              "\n",
              "    [theme=dark] .colab-df-convert {\n",
              "      background-color: #3B4455;\n",
              "      fill: #D2E3FC;\n",
              "    }\n",
              "\n",
              "    [theme=dark] .colab-df-convert:hover {\n",
              "      background-color: #434B5C;\n",
              "      box-shadow: 0px 1px 3px 1px rgba(0, 0, 0, 0.15);\n",
              "      filter: drop-shadow(0px 1px 2px rgba(0, 0, 0, 0.3));\n",
              "      fill: #FFFFFF;\n",
              "    }\n",
              "  </style>\n",
              "\n",
              "      <script>\n",
              "        const buttonEl =\n",
              "          document.querySelector('#df-7b8f3534-1aaa-4770-8e80-2f895952e35f button.colab-df-convert');\n",
              "        buttonEl.style.display =\n",
              "          google.colab.kernel.accessAllowed ? 'block' : 'none';\n",
              "\n",
              "        async function convertToInteractive(key) {\n",
              "          const element = document.querySelector('#df-7b8f3534-1aaa-4770-8e80-2f895952e35f');\n",
              "          const dataTable =\n",
              "            await google.colab.kernel.invokeFunction('convertToInteractive',\n",
              "                                                     [key], {});\n",
              "          if (!dataTable) return;\n",
              "\n",
              "          const docLinkHtml = 'Like what you see? Visit the ' +\n",
              "            '<a target=\"_blank\" href=https://colab.research.google.com/notebooks/data_table.ipynb>data table notebook</a>'\n",
              "            + ' to learn more about interactive tables.';\n",
              "          element.innerHTML = '';\n",
              "          dataTable['output_type'] = 'display_data';\n",
              "          await google.colab.output.renderOutput(dataTable, element);\n",
              "          const docLink = document.createElement('div');\n",
              "          docLink.innerHTML = docLinkHtml;\n",
              "          element.appendChild(docLink);\n",
              "        }\n",
              "      </script>\n",
              "    </div>\n",
              "  </div>\n",
              "  "
            ]
          },
          "metadata": {},
          "execution_count": 5
        }
      ]
    },
    {
      "cell_type": "markdown",
      "source": [
        "#### 特征选择"
      ],
      "metadata": {
        "id": "R-hYshbbKhAf"
      }
    },
    {
      "cell_type": "code",
      "metadata": {
        "id": "eoKNBIJ4iw4i"
      },
      "source": [
        "# 测试集特征需要和训练集保持一致\n",
        "test = test[train.columns]"
      ],
      "execution_count": 6,
      "outputs": []
    },
    {
      "cell_type": "markdown",
      "source": [
        "#### 标准化"
      ],
      "metadata": {
        "id": "zUHDGmYXQL6m"
      }
    },
    {
      "cell_type": "code",
      "source": [
        "scaler = StandardScaler()\n",
        "scaler.fit(train)\n",
        "train = scaler.transform(train)\n",
        "test = scaler.transform(test)\n",
        "\n",
        "X_train, y_train = train[:, :-1], train[:, -1]\n",
        "X_test, y_test = test[:, :-1], test[:, -1]"
      ],
      "metadata": {
        "id": "lGlZDNhMQUA-"
      },
      "execution_count": 7,
      "outputs": []
    },
    {
      "cell_type": "code",
      "metadata": {
        "id": "WIuA6WIc_itL"
      },
      "source": [
        "# X_train, y_train = train.drop(columns=['median_house_value']), train['median_house_value']\n",
        "# X_test, y_test = test.drop(columns=['median_house_value']), test['median_house_value']"
      ],
      "execution_count": 8,
      "outputs": []
    },
    {
      "cell_type": "markdown",
      "metadata": {
        "id": "gZ_RVyMImPva"
      },
      "source": [
        "### 模型"
      ]
    },
    {
      "cell_type": "code",
      "metadata": {
        "colab": {
          "base_uri": "https://localhost:8080/"
        },
        "id": "nyRvNRuI_itL",
        "outputId": "2448df17-feb8-4ba9-e7de-bb76376c9126"
      },
      "source": [
        "model = LinearRegression()\n",
        "model.fit(X_train, y_train)\n",
        "model.score(X_test, y_test)"
      ],
      "execution_count": 9,
      "outputs": [
        {
          "output_type": "execute_result",
          "data": {
            "text/plain": [
              "0.5014286582077965"
            ]
          },
          "metadata": {},
          "execution_count": 9
        }
      ]
    },
    {
      "cell_type": "markdown",
      "source": [
        "#### 残差检验"
      ],
      "metadata": {
        "id": "c8eH7zmtR71_"
      }
    },
    {
      "cell_type": "code",
      "metadata": {
        "id": "bbXnrGnx_itM"
      },
      "source": [
        "e = y_test - model.predict(X_test)"
      ],
      "execution_count": 11,
      "outputs": []
    },
    {
      "cell_type": "code",
      "metadata": {
        "colab": {
          "base_uri": "https://localhost:8080/",
          "height": 452
        },
        "id": "AV4ks3Eq_itN",
        "outputId": "657920e1-48d8-4f50-cdb3-d0296891140b"
      },
      "source": [
        "qqplot(e, line='45')\n",
        "plt.show()"
      ],
      "execution_count": 12,
      "outputs": [
        {
          "output_type": "display_data",
          "data": {
            "text/plain": [
              "<Figure size 640x480 with 1 Axes>"
            ],
            "image/png": "[encoded data removed]"
          },
          "metadata": {}
        }
      ]
    },
    {
      "cell_type": "code",
      "metadata": {
        "colab": {
          "base_uri": "https://localhost:8080/"
        },
        "id": "zn3tkAVv_itO",
        "outputId": "29556585-43dd-43e4-b3af-5665332deb6d"
      },
      "source": [
        "kstest(e, 'norm')"
      ],
      "execution_count": 13,
      "outputs": [
        {
          "output_type": "execute_result",
          "data": {
            "text/plain": [
              "KstestResult(statistic=0.1528816477749526, pvalue=1.087946025243337e-61, statistic_location=-0.8552189230168095, statistic_sign=-1)"
            ]
          },
          "metadata": {},
          "execution_count": 13
        }
      ]
    },
    {
      "cell_type": "markdown",
      "metadata": {
        "id": "Tp1m9L4fnpwE"
      },
      "source": [
        "## why"
      ]
    },
    {
      "cell_type": "code",
      "metadata": {
        "id": "07_5DDgcoHav"
      },
      "source": [
        "class myLinReg():\n",
        "    def __init__(self, eta=1e-1, thread=1e-3, max_iter=1000):\n",
        "        self._X = None\n",
        "        self._y = None\n",
        "        self._theta = None\n",
        "        self._eta = eta\n",
        "        self._thread = thread\n",
        "        self._max_iter = max_iter\n",
        "        \n",
        "    def fit(self, X_train, y_train):\n",
        "        self._X = np.c_[np.ones(X_train.shape[0]), X_train]\n",
        "        self._y = np.array(y_train).reshape(-1, 1)\n",
        "        self._theta = np.linalg.inv(self._X.T @ self._X) @ self._X.T @ self._y\n",
        "    \n",
        "    # 目标函数\n",
        "    def _J(self):\n",
        "        h = self._X @ self._theta\n",
        "        m = len(self._y)\n",
        "        return np.sum((self._y - h)**2) / 2*m\n",
        "    \n",
        "    # 梯度\n",
        "    def _dJ(self):\n",
        "        h = self._X @ self._theta\n",
        "        m = len(self._y)\n",
        "        return (self._X.T @ (h - self._y)) / m\n",
        "    \n",
        "    def fit_gd(self, X_train, y_train):\n",
        "        self._X = np.c_[np.ones(X_train.shape[0]), X_train]\n",
        "        self._y = np.array(y_train).reshape(-1, 1)\n",
        "        self._theta = np.zeros(self._X.shape[1]).reshape(-1,1)\n",
        "        count = 1\n",
        "        while count < self._max_iter:\n",
        "            old_J = self._J()\n",
        "            dJ = self._dJ()\n",
        "            self._theta -= self._eta * dJ\n",
        "            new_J = self._J()\n",
        "            if np.abs(new_J - old_J) < self._thread:\n",
        "                break\n",
        "            count +=1\n",
        "        return self\n",
        "    \n",
        "    def predict(self, X_test):\n",
        "        X_b = np.c_[np.ones(X_test.shape[0]), X_test]\n",
        "        return X_b @ self._theta\n",
        "    \n",
        "    def score(self, X_test, y_test):\n",
        "        y_pred = self.predict(X_test).reshape(-1,1)\n",
        "        y_test = np.array(y_test).reshape(-1,1)\n",
        "        sse = np.sum((y_test - y_pred)**2)\n",
        "        sst = np.sum((y_test - y_test.mean())**2)\n",
        "        return 1 - sse/sst"
      ],
      "execution_count": 14,
      "outputs": []
    },
    {
      "cell_type": "code",
      "metadata": {
        "colab": {
          "base_uri": "https://localhost:8080/"
        },
        "id": "RNfxgUftof4J",
        "outputId": "8f41732f-48a5-4aab-d7e4-c6a39837edfa"
      },
      "source": [
        "myModel = myLinReg()\n",
        "myModel.fit(X_train, y_train)\n",
        "myModel.score(X_test, y_test)"
      ],
      "execution_count": 15,
      "outputs": [
        {
          "output_type": "execute_result",
          "data": {
            "text/plain": [
              "0.5014286582077965"
            ]
          },
          "metadata": {},
          "execution_count": 15
        }
      ]
    }
  ]
}