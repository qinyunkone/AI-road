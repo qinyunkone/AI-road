{
  "nbformat": 4,
  "nbformat_minor": 0,
  "metadata": {
    "kernelspec": {
      "display_name": "Python 3",
      "language": "python",
      "name": "python3"
    },
    "language_info": {
      "codemirror_mode": {
        "name": "ipython",
        "version": 3
      },
      "file_extension": ".py",
      "mimetype": "text/x-python",
      "name": "python",
      "nbconvert_exporter": "python",
      "pygments_lexer": "ipython3",
      "version": "3.7.4"
    },
    "colab": {
      "name": "线性回归.ipynb",
      "provenance": [],
      "collapsed_sections": [],
      "toc_visible": true
    }
  },
  "cells": [
    {
      "cell_type": "markdown",
      "metadata": {
        "id": "mvMknznM_is-"
      },
      "source": [
        "# 线性回归"
      ]
    },
    {
      "cell_type": "markdown",
      "metadata": {
        "id": "9BRhj0RkmC2N"
      },
      "source": [
        "## what"
      ]
    },
    {
      "cell_type": "markdown",
      "metadata": {
        "id": "1wcKG3-xl8f7"
      },
      "source": [
        "思想：用一条直线拟合样本点，让残差平方和最小。\n",
        "\n",
        "模型：$h(x)=X\\theta$\n",
        "\n",
        "参数：$\\theta=(\\theta_0,...,\\theta_n)^{'}$\n",
        "\n",
        "目标函数：$J(\\theta)=\\frac{1}{2m}\\sum^{m}_{i=1}(y^{(i)}-h(x^{(i)}))^2=\\frac{1}{2m}||y-X\\theta||_2^2$\n",
        "\n",
        "梯度：$\\bigtriangledown J(\\theta)=\\frac{1}{m}X^T(h(x)-y)$\n",
        "\n",
        "最优参数：$\\hat{\\theta}=(X^TX)^{-1}X^Ty$\n",
        "\n",
        "优点：\n",
        "1. 建模速度快，不需要很复杂的计算，在数据量大的情况下依然运行速度很快。\n",
        "2. 可以根据系数给出每个变量的解释\n",
        "\n",
        "缺点：\n",
        "1. 不能很好地拟合非线性数据。所以需要先判断变量之间是否是线性关系。"
      ]
    },
    {
      "cell_type": "markdown",
      "metadata": {
        "id": "Ygqk8K7smF20"
      },
      "source": [
        "## how"
      ]
    },
    {
      "cell_type": "code",
      "metadata": {
        "id": "95rqRiRE_itG",
        "colab": {
          "base_uri": "https://localhost:8080/"
        },
        "outputId": "3d5fbaa2-4723-46c6-d28f-c2947bfc384d"
      },
      "source": [
        "import pandas as pd\n",
        "import numpy as np\n",
        "\n",
        "import matplotlib.pyplot as plt\n",
        "%matplotlib inline\n",
        "\n",
        "from sklearn.linear_model import LinearRegression\n",
        "\n",
        "from sklearn.preprocessing import StandardScaler\n",
        "from statsmodels.graphics.gofplots import qqplot\n",
        "from scipy.stats import kstest # 正态性检验\n",
        "\n",
        "import warnings\n",
        "warnings.filterwarnings('ignore')"
      ],
      "execution_count": 1,
      "outputs": [
        {
          "output_type": "stream",
          "name": "stderr",
          "text": [
            "/usr/local/lib/python3.7/dist-packages/statsmodels/tools/_testing.py:19: FutureWarning: pandas.util.testing is deprecated. Use the functions in the public API at pandas.testing instead.\n",
            "  import pandas.util.testing as tm\n"
          ]
        }
      ]
    },
    {
      "cell_type": "markdown",
      "metadata": {
        "id": "8ZcELqTnmK6G"
      },
      "source": [
        "### 数据"
      ]
    },
    {
      "cell_type": "code",
      "metadata": {
        "colab": {
          "base_uri": "https://localhost:8080/",
          "height": 206
        },
        "id": "GkDRmE51_itJ",
        "outputId": "5724b526-39c2-426e-b87f-d792ab6115d0"
      },
      "source": [
        "train = pd.read_csv('california_housing_train.csv')\n",
        "test = pd.read_csv('california_housing_test.csv')\n",
        "train.head()"
      ],
      "execution_count": 2,
      "outputs": [
        {
          "output_type": "execute_result",
          "data": {
            "text/html": [
              "<div>\n",
              "<style scoped>\n",
              "    .dataframe tbody tr th:only-of-type {\n",
              "        vertical-align: middle;\n",
              "    }\n",
              "\n",
              "    .dataframe tbody tr th {\n",
              "        vertical-align: top;\n",
              "    }\n",
              "\n",
              "    .dataframe thead th {\n",
              "        text-align: right;\n",
              "    }\n",
              "</style>\n",
              "<table border=\"1\" class=\"dataframe\">\n",
              "  <thead>\n",
              "    <tr style=\"text-align: right;\">\n",
              "      <th></th>\n",
              "      <th>longitude</th>\n",
              "      <th>latitude</th>\n",
              "      <th>housing_median_age</th>\n",
              "      <th>total_rooms</th>\n",
              "      <th>total_bedrooms</th>\n",
              "      <th>population</th>\n",
              "      <th>households</th>\n",
              "      <th>median_income</th>\n",
              "      <th>median_house_value</th>\n",
              "    </tr>\n",
              "  </thead>\n",
              "  <tbody>\n",
              "    <tr>\n",
              "      <th>0</th>\n",
              "      <td>-114.31</td>\n",
              "      <td>34.19</td>\n",
              "      <td>15.0</td>\n",
              "      <td>5612.0</td>\n",
              "      <td>1283.0</td>\n",
              "      <td>1015.0</td>\n",
              "      <td>472.0</td>\n",
              "      <td>1.4936</td>\n",
              "      <td>66900.0</td>\n",
              "    </tr>\n",
              "    <tr>\n",
              "      <th>1</th>\n",
              "      <td>-114.47</td>\n",
              "      <td>34.40</td>\n",
              "      <td>19.0</td>\n",
              "      <td>7650.0</td>\n",
              "      <td>1901.0</td>\n",
              "      <td>1129.0</td>\n",
              "      <td>463.0</td>\n",
              "      <td>1.8200</td>\n",
              "      <td>80100.0</td>\n",
              "    </tr>\n",
              "    <tr>\n",
              "      <th>2</th>\n",
              "      <td>-114.56</td>\n",
              "      <td>33.69</td>\n",
              "      <td>17.0</td>\n",
              "      <td>720.0</td>\n",
              "      <td>174.0</td>\n",
              "      <td>333.0</td>\n",
              "      <td>117.0</td>\n",
              "      <td>1.6509</td>\n",
              "      <td>85700.0</td>\n",
              "    </tr>\n",
              "    <tr>\n",
              "      <th>3</th>\n",
              "      <td>-114.57</td>\n",
              "      <td>33.64</td>\n",
              "      <td>14.0</td>\n",
              "      <td>1501.0</td>\n",
              "      <td>337.0</td>\n",
              "      <td>515.0</td>\n",
              "      <td>226.0</td>\n",
              "      <td>3.1917</td>\n",
              "      <td>73400.0</td>\n",
              "    </tr>\n",
              "    <tr>\n",
              "      <th>4</th>\n",
              "      <td>-114.57</td>\n",
              "      <td>33.57</td>\n",
              "      <td>20.0</td>\n",
              "      <td>1454.0</td>\n",
              "      <td>326.0</td>\n",
              "      <td>624.0</td>\n",
              "      <td>262.0</td>\n",
              "      <td>1.9250</td>\n",
              "      <td>65500.0</td>\n",
              "    </tr>\n",
              "  </tbody>\n",
              "</table>\n",
              "</div>"
            ],
            "text/plain": [
              "   longitude  latitude  ...  median_income  median_house_value\n",
              "0    -114.31     34.19  ...         1.4936             66900.0\n",
              "1    -114.47     34.40  ...         1.8200             80100.0\n",
              "2    -114.56     33.69  ...         1.6509             85700.0\n",
              "3    -114.57     33.64  ...         3.1917             73400.0\n",
              "4    -114.57     33.57  ...         1.9250             65500.0\n",
              "\n",
              "[5 rows x 9 columns]"
            ]
          },
          "metadata": {},
          "execution_count": 2
        }
      ]
    },
    {
      "cell_type": "code",
      "metadata": {
        "colab": {
          "base_uri": "https://localhost:8080/"
        },
        "id": "Dg16Si1JTwkD",
        "outputId": "2ce3c32e-774f-49aa-8a1d-10678411f94f"
      },
      "source": [
        "# 线性假定\n",
        "train.corr()['median_house_value']"
      ],
      "execution_count": 3,
      "outputs": [
        {
          "output_type": "execute_result",
          "data": {
            "text/plain": [
              "longitude            -0.044982\n",
              "latitude             -0.144917\n",
              "housing_median_age    0.106758\n",
              "total_rooms           0.130991\n",
              "total_bedrooms        0.045783\n",
              "population           -0.027850\n",
              "households            0.061031\n",
              "median_income         0.691871\n",
              "median_house_value    1.000000\n",
              "Name: median_house_value, dtype: float64"
            ]
          },
          "metadata": {},
          "execution_count": 3
        }
      ]
    },
    {
      "cell_type": "code",
      "metadata": {
        "colab": {
          "base_uri": "https://localhost:8080/",
          "height": 300
        },
        "id": "f1J6FPH9Wpx_",
        "outputId": "dc76ad52-1ab9-4a09-d836-7acc962d28dd"
      },
      "source": [
        "# 无严格多重共线性\n",
        "train.drop(columns='median_house_value').corr()"
      ],
      "execution_count": 4,
      "outputs": [
        {
          "output_type": "execute_result",
          "data": {
            "text/html": [
              "<div>\n",
              "<style scoped>\n",
              "    .dataframe tbody tr th:only-of-type {\n",
              "        vertical-align: middle;\n",
              "    }\n",
              "\n",
              "    .dataframe tbody tr th {\n",
              "        vertical-align: top;\n",
              "    }\n",
              "\n",
              "    .dataframe thead th {\n",
              "        text-align: right;\n",
              "    }\n",
              "</style>\n",
              "<table border=\"1\" class=\"dataframe\">\n",
              "  <thead>\n",
              "    <tr style=\"text-align: right;\">\n",
              "      <th></th>\n",
              "      <th>longitude</th>\n",
              "      <th>latitude</th>\n",
              "      <th>housing_median_age</th>\n",
              "      <th>total_rooms</th>\n",
              "      <th>total_bedrooms</th>\n",
              "      <th>population</th>\n",
              "      <th>households</th>\n",
              "      <th>median_income</th>\n",
              "    </tr>\n",
              "  </thead>\n",
              "  <tbody>\n",
              "    <tr>\n",
              "      <th>longitude</th>\n",
              "      <td>1.000000</td>\n",
              "      <td>-0.925208</td>\n",
              "      <td>-0.114250</td>\n",
              "      <td>0.047010</td>\n",
              "      <td>0.071802</td>\n",
              "      <td>0.101674</td>\n",
              "      <td>0.059628</td>\n",
              "      <td>-0.015485</td>\n",
              "    </tr>\n",
              "    <tr>\n",
              "      <th>latitude</th>\n",
              "      <td>-0.925208</td>\n",
              "      <td>1.000000</td>\n",
              "      <td>0.016454</td>\n",
              "      <td>-0.038773</td>\n",
              "      <td>-0.069373</td>\n",
              "      <td>-0.111261</td>\n",
              "      <td>-0.074902</td>\n",
              "      <td>-0.080303</td>\n",
              "    </tr>\n",
              "    <tr>\n",
              "      <th>housing_median_age</th>\n",
              "      <td>-0.114250</td>\n",
              "      <td>0.016454</td>\n",
              "      <td>1.000000</td>\n",
              "      <td>-0.360984</td>\n",
              "      <td>-0.320434</td>\n",
              "      <td>-0.295890</td>\n",
              "      <td>-0.302754</td>\n",
              "      <td>-0.115932</td>\n",
              "    </tr>\n",
              "    <tr>\n",
              "      <th>total_rooms</th>\n",
              "      <td>0.047010</td>\n",
              "      <td>-0.038773</td>\n",
              "      <td>-0.360984</td>\n",
              "      <td>1.000000</td>\n",
              "      <td>0.928403</td>\n",
              "      <td>0.860170</td>\n",
              "      <td>0.919018</td>\n",
              "      <td>0.195383</td>\n",
              "    </tr>\n",
              "    <tr>\n",
              "      <th>total_bedrooms</th>\n",
              "      <td>0.071802</td>\n",
              "      <td>-0.069373</td>\n",
              "      <td>-0.320434</td>\n",
              "      <td>0.928403</td>\n",
              "      <td>1.000000</td>\n",
              "      <td>0.881169</td>\n",
              "      <td>0.980920</td>\n",
              "      <td>-0.013495</td>\n",
              "    </tr>\n",
              "    <tr>\n",
              "      <th>population</th>\n",
              "      <td>0.101674</td>\n",
              "      <td>-0.111261</td>\n",
              "      <td>-0.295890</td>\n",
              "      <td>0.860170</td>\n",
              "      <td>0.881169</td>\n",
              "      <td>1.000000</td>\n",
              "      <td>0.909247</td>\n",
              "      <td>-0.000638</td>\n",
              "    </tr>\n",
              "    <tr>\n",
              "      <th>households</th>\n",
              "      <td>0.059628</td>\n",
              "      <td>-0.074902</td>\n",
              "      <td>-0.302754</td>\n",
              "      <td>0.919018</td>\n",
              "      <td>0.980920</td>\n",
              "      <td>0.909247</td>\n",
              "      <td>1.000000</td>\n",
              "      <td>0.007644</td>\n",
              "    </tr>\n",
              "    <tr>\n",
              "      <th>median_income</th>\n",
              "      <td>-0.015485</td>\n",
              "      <td>-0.080303</td>\n",
              "      <td>-0.115932</td>\n",
              "      <td>0.195383</td>\n",
              "      <td>-0.013495</td>\n",
              "      <td>-0.000638</td>\n",
              "      <td>0.007644</td>\n",
              "      <td>1.000000</td>\n",
              "    </tr>\n",
              "  </tbody>\n",
              "</table>\n",
              "</div>"
            ],
            "text/plain": [
              "                    longitude  latitude  ...  households  median_income\n",
              "longitude            1.000000 -0.925208  ...    0.059628      -0.015485\n",
              "latitude            -0.925208  1.000000  ...   -0.074902      -0.080303\n",
              "housing_median_age  -0.114250  0.016454  ...   -0.302754      -0.115932\n",
              "total_rooms          0.047010 -0.038773  ...    0.919018       0.195383\n",
              "total_bedrooms       0.071802 -0.069373  ...    0.980920      -0.013495\n",
              "population           0.101674 -0.111261  ...    0.909247      -0.000638\n",
              "households           0.059628 -0.074902  ...    1.000000       0.007644\n",
              "median_income       -0.015485 -0.080303  ...    0.007644       1.000000\n",
              "\n",
              "[8 rows x 8 columns]"
            ]
          },
          "metadata": {},
          "execution_count": 4
        }
      ]
    },
    {
      "cell_type": "code",
      "metadata": {
        "id": "eoKNBIJ4iw4i"
      },
      "source": [
        "train.drop(columns=['longitude', 'total_bedrooms', 'population', 'households'], inplace=True)\n",
        "test = test[train.columns]"
      ],
      "execution_count": 5,
      "outputs": []
    },
    {
      "cell_type": "code",
      "metadata": {
        "id": "WIuA6WIc_itL"
      },
      "source": [
        "scaler = StandardScaler()\n",
        "scaler.fit(train)\n",
        "train = scaler.transform(train)\n",
        "test = scaler.transform(test)\n",
        "\n",
        "X_train, y_train = train[:, :-1], train[:, -1]\n",
        "X_test, y_test = test[:, :-1], test[:, -1]"
      ],
      "execution_count": 6,
      "outputs": []
    },
    {
      "cell_type": "markdown",
      "metadata": {
        "id": "gZ_RVyMImPva"
      },
      "source": [
        "### 模型"
      ]
    },
    {
      "cell_type": "code",
      "metadata": {
        "colab": {
          "base_uri": "https://localhost:8080/"
        },
        "id": "nyRvNRuI_itL",
        "outputId": "55f38a71-5dd4-4b98-a492-d734e821ed0f"
      },
      "source": [
        "model = LinearRegression()\n",
        "model.fit(X_train, y_train)\n",
        "model.score(X_test, y_test)"
      ],
      "execution_count": 7,
      "outputs": [
        {
          "output_type": "execute_result",
          "data": {
            "text/plain": [
              "0.5014286582077965"
            ]
          },
          "metadata": {},
          "execution_count": 7
        }
      ]
    },
    {
      "cell_type": "code",
      "metadata": {
        "id": "bbXnrGnx_itM"
      },
      "source": [
        "# 残差检验\n",
        "e = y_test - model.predict(X_test)"
      ],
      "execution_count": 8,
      "outputs": []
    },
    {
      "cell_type": "code",
      "metadata": {
        "colab": {
          "base_uri": "https://localhost:8080/",
          "height": 282
        },
        "id": "AV4ks3Eq_itN",
        "outputId": "77ed6f8d-b4cd-4165-c148-f98a9c16008c"
      },
      "source": [
        "qqplot(e, line='45')\n",
        "plt.show()"
      ],
      "execution_count": 9,
      "outputs": [
        {
          "output_type": "display_data",
          "data": {
            "image/png": "[encoded data removed]",
            "text/plain": [
              "<Figure size 432x288 with 1 Axes>"
            ]
          },
          "metadata": {
            "needs_background": "light"
          }
        }
      ]
    },
    {
      "cell_type": "code",
      "metadata": {
        "colab": {
          "base_uri": "https://localhost:8080/"
        },
        "id": "zn3tkAVv_itO",
        "outputId": "acb9c8a2-261d-4eb5-af86-f1dabf64f636"
      },
      "source": [
        "kstest(e, 'norm')"
      ],
      "execution_count": 10,
      "outputs": [
        {
          "output_type": "execute_result",
          "data": {
            "text/plain": [
              "KstestResult(statistic=0.15288164777495256, pvalue=2.4944006873754828e-61)"
            ]
          },
          "metadata": {},
          "execution_count": 10
        }
      ]
    },
    {
      "cell_type": "markdown",
      "metadata": {
        "id": "Tp1m9L4fnpwE"
      },
      "source": [
        "## why"
      ]
    },
    {
      "cell_type": "code",
      "metadata": {
        "id": "07_5DDgcoHav"
      },
      "source": [
        "class myLinReg():\n",
        "    def __init__(self, eta=1e-1, thread=1e-3, max_iter=1000):\n",
        "        self._X = None\n",
        "        self._y = None\n",
        "        self._theta = None\n",
        "        self._eta = eta\n",
        "        self._thread = thread\n",
        "        self._max_iter = max_iter\n",
        "        \n",
        "    def fit(self, X_train, y_train):\n",
        "        self._X = np.c_[np.ones(X_train.shape[0]), X_train]\n",
        "        self._y = np.array(y_train).reshape(-1, 1)\n",
        "        self._theta = np.linalg.inv(self._X.T @ self._X) @ self._X.T @ self._y\n",
        "    \n",
        "    # 目标函数\n",
        "    def _J(self):\n",
        "        h = self._X @ self._theta\n",
        "        m = len(self._y)\n",
        "        return np.sum((self._y - h)**2) / 2*m\n",
        "    \n",
        "    # 梯度\n",
        "    def _dJ(self):\n",
        "        h = self._X @ self._theta\n",
        "        m = len(self._y)\n",
        "        return (self._X.T @ (h - self._y)) / m\n",
        "    \n",
        "    def fit_gd(self, X_train, y_train):\n",
        "        self._X = np.c_[np.ones(X_train.shape[0]), X_train]\n",
        "        self._y = np.array(y_train).reshape(-1, 1)\n",
        "        self._theta = np.zeros(self._X.shape[1]).reshape(-1,1)\n",
        "        count = 1\n",
        "        while count < self._max_iter:\n",
        "            old_J = self._J()\n",
        "            dJ = self._dJ()\n",
        "            self._theta -= self._eta * dJ\n",
        "            new_J = self._J()\n",
        "            if np.abs(new_J - old_J) < self._thread:\n",
        "                break\n",
        "            count +=1\n",
        "        return self\n",
        "    \n",
        "    def predict(self, X_test):\n",
        "        X_b = np.c_[np.ones(X_test.shape[0]), X_test]\n",
        "        return X_b @ self._theta\n",
        "    \n",
        "    def score(self, X_test, y_test):\n",
        "        y_pred = self.predict(X_test).reshape(-1,1)\n",
        "        y_test = np.array(y_test).reshape(-1,1)\n",
        "        sse = np.sum((y_test - y_pred)**2)\n",
        "        sst = np.sum((y_test - y_test.mean())**2)\n",
        "        return 1 - sse/sst"
      ],
      "execution_count": 11,
      "outputs": []
    },
    {
      "cell_type": "code",
      "metadata": {
        "colab": {
          "base_uri": "https://localhost:8080/"
        },
        "id": "RNfxgUftof4J",
        "outputId": "30e73d37-ec44-420e-feb5-c4e3bea89dbd"
      },
      "source": [
        "myModel = myLinReg()\n",
        "myModel.fit(X_train, y_train)\n",
        "myModel.score(X_test, y_test)"
      ],
      "execution_count": 14,
      "outputs": [
        {
          "output_type": "execute_result",
          "data": {
            "text/plain": [
              "0.5014286582077965"
            ]
          },
          "metadata": {},
          "execution_count": 14
        }
      ]
    }
  ]
}