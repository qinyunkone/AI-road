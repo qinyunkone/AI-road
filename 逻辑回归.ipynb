{
  "nbformat": 4,
  "nbformat_minor": 0,
  "metadata": {
    "colab": {
      "name": "逻辑回归.ipynb",
      "provenance": [],
      "collapsed_sections": []
    },
    "kernelspec": {
      "display_name": "Python 3",
      "name": "python3"
    }
  },
  "cells": [
    {
      "cell_type": "markdown",
      "metadata": {
        "id": "6L8uzYi8jNTJ"
      },
      "source": [
        "# 逻辑回归\r\n",
        "\r\n",
        "假设函数：$h(x)=\\frac{1}{1+e^{-X\\theta}}=p(y=1|X,\\theta)=p$\r\n",
        "\r\n",
        "参数：$\\theta=(\\theta_0,...,\\theta_n)^{'}$\r\n",
        "\r\n",
        "最大似然函数：$L=\\prod^{m}_{i=1}p^{y^{(i)}}(1-p)^{1-y^{(i)}}$\r\n",
        "\r\n",
        "代价函数：$J(\\theta)=-\\frac{1}{m}\\sum_{i=1}^{m}y^{(i)}\\ln(h(x))+(1-y^{(i)})\\ln(1-h(x))$\r\n",
        "\r\n",
        "梯度：$\\bigtriangledown J(\\theta)=\\frac{1}{m}X^{'}(h(x)-y)$\r\n"
      ]
    },
    {
      "cell_type": "code",
      "metadata": {
        "id": "tTa7MSyFjEqm"
      },
      "source": [
        "import pandas as pd\r\n",
        "\r\n",
        "from scipy.sparse import csr_matrix\r\n",
        "from sklearn.preprocessing import MaxAbsScaler\r\n",
        "from sklearn.decomposition import TruncatedSVD\r\n",
        "\r\n",
        "from sklearn.linear_model import LogisticRegression\r\n",
        "from sklearn.model_selection import GridSearchCV\r\n",
        "\r\n",
        "from sklearn.metrics import *"
      ],
      "execution_count": null,
      "outputs": []
    },
    {
      "cell_type": "markdown",
      "metadata": {
        "id": "0vclrFwojUAk"
      },
      "source": [
        "## 数据"
      ]
    },
    {
      "cell_type": "code",
      "metadata": {
        "id": "lqZnmaWcjSh3"
      },
      "source": [
        "train = pd.read_csv('/content/sample_data/mnist_train_small.csv')\r\n",
        "test = pd.read_csv('/content/sample_data/mnist_test.csv')\r\n",
        "\r\n",
        "train_bin_cat = train[train.iloc[:, 0].isin([0, 1])]\r\n",
        "test_bin_cat = test[test.iloc[:, 0].isin([0, 1])]\r\n",
        "\r\n",
        "X_train, y_train = train_bin_cat.iloc[:, 1:], train_bin_cat.iloc[:, 0]\r\n",
        "X_test, y_test = test_bin_cat.iloc[:, 1:], test_bin_cat.iloc[:, 0]"
      ],
      "execution_count": null,
      "outputs": []
    },
    {
      "cell_type": "code",
      "metadata": {
        "id": "PXE3cLIDjW1Z",
        "colab": {
          "base_uri": "https://localhost:8080/"
        },
        "outputId": "9dcfbb2f-f244-4b12-bd50-3592e70441d2"
      },
      "source": [
        "X_train = csr_matrix(X_train)\r\n",
        "X_test = csr_matrix(X_test)\r\n",
        "\r\n",
        "scaler = MaxAbsScaler()\r\n",
        "X_train = scaler.fit_transform(X_train)\r\n",
        "X_test = scaler.transform(X_test)\r\n",
        "\r\n",
        "dec = TruncatedSVD(n_components=96)\r\n",
        "X_train = dec.fit_transform(X_train)\r\n",
        "X_test = dec.transform(X_test)\r\n",
        "print(dec.explained_variance_ratio_.sum())\r\n",
        "print(X_test.shape)"
      ],
      "execution_count": null,
      "outputs": [
        {
          "output_type": "stream",
          "text": [
            "0.9503326891265398\n",
            "(2115, 96)\n"
          ],
          "name": "stdout"
        }
      ]
    },
    {
      "cell_type": "markdown",
      "metadata": {
        "id": "9AtoR1LajcFa"
      },
      "source": [
        "## 模型"
      ]
    },
    {
      "cell_type": "code",
      "metadata": {
        "colab": {
          "base_uri": "https://localhost:8080/"
        },
        "id": "b3XiFu4ljZdF",
        "outputId": "251bdf0b-8e1e-46e1-cc05-66640b0814df"
      },
      "source": [
        "clf = LogisticRegression(solver='saga', max_iter=500, random_state=100)\r\n",
        "params = {\r\n",
        "    'C': [0.001, 0.01, 0.1, 1, 10]\r\n",
        "}\r\n",
        "grid = GridSearchCV(clf, params, cv=5, scoring='roc_auc', verbose=2, n_jobs=-1)\r\n",
        "grid.fit(X_train, y_train)\r\n",
        "print(grid.best_params_)\r\n",
        "print(grid.best_score_)"
      ],
      "execution_count": null,
      "outputs": [
        {
          "output_type": "stream",
          "text": [
            "Fitting 5 folds for each of 5 candidates, totalling 25 fits\n"
          ],
          "name": "stdout"
        },
        {
          "output_type": "stream",
          "text": [
            "[Parallel(n_jobs=-1)]: Using backend LokyBackend with 2 concurrent workers.\n",
            "[Parallel(n_jobs=-1)]: Done  25 out of  25 | elapsed:   25.2s finished\n"
          ],
          "name": "stderr"
        },
        {
          "output_type": "stream",
          "text": [
            "{'C': 0.1}\n",
            "0.9999931835737745\n"
          ],
          "name": "stdout"
        }
      ]
    },
    {
      "cell_type": "code",
      "metadata": {
        "colab": {
          "base_uri": "https://localhost:8080/"
        },
        "id": "wFZXwGE_jdee",
        "outputId": "f5e39a3b-566d-4c2a-f365-8f0446939432"
      },
      "source": [
        "model = grid.best_estimator_\r\n",
        "y_hat = model.predict(X_test)\r\n",
        "y_prob = model.predict_proba(X_test)[:, 1]\r\n",
        "print(f'accuracy：{accuracy_score(y_test, y_hat)}')\r\n",
        "print(f'precision：{precision_score(y_test, y_hat)}')\r\n",
        "print(f'recall：{recall_score(y_test, y_hat)}')\r\n",
        "print(f'f1：{f1_score(y_test, y_hat)}')\r\n",
        "print(f'auc：{roc_auc_score(y_test, y_prob)}')\r\n",
        "print(confusion_matrix(y_test, y_hat))\r\n",
        "print(classification_report(y_test, y_hat))"
      ],
      "execution_count": null,
      "outputs": [
        {
          "output_type": "stream",
          "text": [
            "accuracy：0.9990543735224586\n",
            "precision：0.9982409850483729\n",
            "recall：1.0\n",
            "f1：0.9991197183098591\n",
            "auc：1.0\n",
            "[[ 978    2]\n",
            " [   0 1135]]\n",
            "              precision    recall  f1-score   support\n",
            "\n",
            "           0       1.00      1.00      1.00       980\n",
            "           1       1.00      1.00      1.00      1135\n",
            "\n",
            "    accuracy                           1.00      2115\n",
            "   macro avg       1.00      1.00      1.00      2115\n",
            "weighted avg       1.00      1.00      1.00      2115\n",
            "\n"
          ],
          "name": "stdout"
        }
      ]
    }
  ]
}