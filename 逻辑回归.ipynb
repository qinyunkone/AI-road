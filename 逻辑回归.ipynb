{
  "nbformat": 4,
  "nbformat_minor": 0,
  "metadata": {
    "colab": {
      "name": "欢迎使用 Colaboratory",
      "provenance": [],
      "collapsed_sections": []
    },
    "kernelspec": {
      "display_name": "Python 3",
      "name": "python3"
    }
  },
  "cells": [
    {
      "cell_type": "markdown",
      "metadata": {
        "id": "SSYh6iXbX8Of"
      },
      "source": [
        "# 逻辑回归\r\n",
        "\r\n",
        "假设函数：$h(x)=\\frac{1}{1+e^{-X\\theta}}=p(y=1|X,\\theta)=p$\r\n",
        "\r\n",
        "参数：$\\theta=(\\theta_0,...,\\theta_n)^{'}$\r\n",
        "\r\n",
        "最大似然函数：$L=\\prod^{m}_{i=1}p^{y^{(i)}}(1-p)^{1-y^{(i)}}$\r\n",
        "\r\n",
        "代价函数：$J(\\theta)=-\\frac{1}{m}\\sum_{i=1}^{m}y^{(i)}\\ln(h(x))+(1-y^{(i)})\\ln(1-h(x))$\r\n",
        "\r\n",
        "梯度：$\\bigtriangledown J(\\theta)=\\frac{1}{m}X^{'}(h(x)-y)$\r\n"
      ]
    },
    {
      "cell_type": "code",
      "metadata": {
        "id": "0c7WJXnSIf2Z"
      },
      "source": [
        "import pandas as pd\r\n",
        "\r\n",
        "from sklearn.linear_model import LogisticRegression"
      ],
      "execution_count": 1,
      "outputs": []
    },
    {
      "cell_type": "markdown",
      "metadata": {
        "id": "cpt8QHe0RDq7"
      },
      "source": [
        "## 数据"
      ]
    },
    {
      "cell_type": "code",
      "metadata": {
        "id": "C-rqGuRhIt0J"
      },
      "source": [
        "train = pd.read_csv('/content/sample_data/mnist_train_small.csv')\r\n",
        "test = pd.read_csv('/content/sample_data/mnist_test.csv')"
      ],
      "execution_count": 2,
      "outputs": []
    },
    {
      "cell_type": "code",
      "metadata": {
        "id": "XE7Sp5wzJ9uW"
      },
      "source": [
        "train_bin_cat = train[train.iloc[:, 0].isin([0, 1])]\r\n",
        "test_bin_cat = test[test.iloc[:, 0].isin([0, 1])]"
      ],
      "execution_count": 3,
      "outputs": []
    },
    {
      "cell_type": "code",
      "metadata": {
        "id": "orv_sJWZO7BM"
      },
      "source": [
        "X_train, y_train = train_bin_cat.iloc[:, 1:], train_bin_cat.iloc[:, 0]\r\n",
        "X_test, y_test = test_bin_cat.iloc[:, 1:], test_bin_cat.iloc[:, 0]"
      ],
      "execution_count": 4,
      "outputs": []
    },
    {
      "cell_type": "markdown",
      "metadata": {
        "id": "Xp3GYRO4X17T"
      },
      "source": [
        "## 模型"
      ]
    },
    {
      "cell_type": "code",
      "metadata": {
        "id": "b2sT8nFBX4oB",
        "outputId": "79639404-a054-4822-ae81-8117ccd86934",
        "colab": {
          "base_uri": "https://localhost:8080/"
        }
      },
      "source": [
        "model = LogisticRegression()\r\n",
        "model.fit(X_train, y_train)"
      ],
      "execution_count": 5,
      "outputs": [
        {
          "output_type": "execute_result",
          "data": {
            "text/plain": [
              "LogisticRegression(C=1.0, class_weight=None, dual=False, fit_intercept=True,\n",
              "                   intercept_scaling=1, l1_ratio=None, max_iter=100,\n",
              "                   multi_class='auto', n_jobs=None, penalty='l2',\n",
              "                   random_state=None, solver='lbfgs', tol=0.0001, verbose=0,\n",
              "                   warm_start=False)"
            ]
          },
          "metadata": {
            "tags": []
          },
          "execution_count": 5
        }
      ]
    },
    {
      "cell_type": "code",
      "metadata": {
        "id": "GmfbH9L7eZOh",
        "outputId": "b6b09df2-5b2a-433a-fc61-3003dc00e745",
        "colab": {
          "base_uri": "https://localhost:8080/"
        }
      },
      "source": [
        "model.score(X_test, y_test)"
      ],
      "execution_count": 6,
      "outputs": [
        {
          "output_type": "execute_result",
          "data": {
            "text/plain": [
              "0.9990543735224586"
            ]
          },
          "metadata": {
            "tags": []
          },
          "execution_count": 6
        }
      ]
    }
  ]
}